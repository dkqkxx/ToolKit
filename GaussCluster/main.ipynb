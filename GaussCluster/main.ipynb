{
 "cells": [
  {
   "cell_type": "code",
   "execution_count": 1,
   "metadata": {},
   "outputs": [],
   "source": [
    "import numpy as np\n",
    "import random as rd\n",
    "import pandas as pd"
   ]
  },
  {
   "cell_type": "code",
   "execution_count": 2,
   "metadata": {},
   "outputs": [],
   "source": [
    "train = pd.read_csv(\"./train.csv\")\n",
    "data = train.drop(\"species\", axis=1).to_numpy()\n",
    "label = train[\"species\"].to_numpy()\n",
    "data = (data - np.min(data, axis=0)) / (np.max(data, axis=0)-np.min(data, axis=0))"
   ]
  },
  {
   "cell_type": "code",
   "execution_count": 3,
   "metadata": {},
   "outputs": [],
   "source": [
    "def mulnorm(x, u, c, k):\n",
    "    if np.linalg.det(c) == 0:\n",
    "        c = c+0.01*np.eye(k)\n",
    "    d = pow(pow((2*np.pi), k)*np.linalg.det(c), -0.5)\n",
    "    e = -0.5*np.dot(np.dot(x-u, np.linalg.inv(c)), x-u)\n",
    "    return d*np.exp(e) + 1e-9\n",
    "\n",
    "\n",
    "def PM(x, A, U, C):\n",
    "    k = A.shape[0]\n",
    "    pm = np.zeros(k)\n",
    "    for i in range(k):\n",
    "        pm[i] = A[i]*mulnorm(x, U[i], C[i], k)\n",
    "    pm = pm / np.sum(pm)\n",
    "    return pm\n"
   ]
  },
  {
   "cell_type": "code",
   "execution_count": 4,
   "metadata": {},
   "outputs": [],
   "source": [
    "[K, N, D] = [3, data.shape[0], data.shape[1]]\n",
    "[A, U, C] = [np.ones(K)/K, np.ones((K, D))/K, np.array([np.eye(D)*rd.random() for i in range(K)])]\n",
    "R = np.ones((N, K))/K"
   ]
  },
  {
   "cell_type": "code",
   "execution_count": 5,
   "metadata": {},
   "outputs": [],
   "source": [
    "for epoch in range(100):\n",
    "    for x in range(N):\n",
    "        R[x] = PM(data[x], A, U, C)\n",
    "    for k in range(K):\n",
    "        U[k] = np.average(data, weights=R[:, k], axis=0)\n",
    "        C[k] = np.average(np.matmul((data - U[k]).reshape([-1, D, 1]), (data - U[k]).reshape([-1, 1, D])), weights=R[:, k], axis=0)\n",
    "        A[k] = np.sum(R[:, k]) / N"
   ]
  },
  {
   "cell_type": "code",
   "execution_count": 6,
   "metadata": {},
   "outputs": [],
   "source": [
    "def Evaluate(predict, label):\n",
    "    rr, rn, nr, nn = 0, 0, 0, 0\n",
    "    for i in range(len(label)):\n",
    "        for j in range(i+1, len(label)):\n",
    "            if label[i] == label[j] and predict[i] == predict[j]:\n",
    "                rr = rr + 1\n",
    "            if label[i] == label[j] and predict[i] != predict[j]:\n",
    "                rn = rn + 1\n",
    "            if label[i] != label[j] and predict[i] == predict[j]:\n",
    "                nr = nr + 1\n",
    "            if label[i] != label[j] and predict[i] != predict[j]:\n",
    "                nn = nn + 1\n",
    "    print(rr / (rr+rn+nr), pow(rr*rr/(rr+rn) / (rr+nr), 0.5), (rr+nn) / (rr+rn+nr+nn))"
   ]
  },
  {
   "cell_type": "code",
   "execution_count": 7,
   "metadata": {},
   "outputs": [
    {
     "name": "stdout",
     "output_type": "stream",
     "text": [
      "0.5780995475113122 0.7418544414651049 0.7914093959731544\n"
     ]
    }
   ],
   "source": [
    "Evaluate(R.argmax(axis=1), label)"
   ]
  }
 ],
 "metadata": {
  "interpreter": {
   "hash": "a3412c442ca337f77f591757bd6eee8d4070a06eb8f9f262eb5b371564aace1d"
  },
  "kernelspec": {
   "display_name": "Python 3.7.5 64-bit",
   "name": "python3"
  },
  "language_info": {
   "codemirror_mode": {
    "name": "ipython",
    "version": 3
   },
   "file_extension": ".py",
   "mimetype": "text/x-python",
   "name": "python",
   "nbconvert_exporter": "python",
   "pygments_lexer": "ipython3",
   "version": "3.7.5"
  },
  "orig_nbformat": 4
 },
 "nbformat": 4,
 "nbformat_minor": 2
}
